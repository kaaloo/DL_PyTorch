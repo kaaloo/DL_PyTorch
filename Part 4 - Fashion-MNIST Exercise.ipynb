{
 "cells": [
  {
   "cell_type": "markdown",
   "metadata": {},
   "source": [
    "# Classifying Fashion-MNIST\n",
    "\n",
    "Now it's your turn to build and train a neural network. You'll be using the [Fashion-MNIST dataset](https://github.com/zalandoresearch/fashion-mnist), a drop-in replacement for the MNIST dataset. MNIST is actually quite trivial with neural networks where you can easily achieve better than 97% accuracy. Fashion-MNIST is a set of 28x28 greyscale images of clothes. It's more complex than MNIST, so it's a better representation of the actual performance of your network, and a better representation of datasets you'll use in the real world.\n",
    "\n",
    "<img src='assets/fashion-mnist-sprite.png' width=500px>\n",
    "\n",
    "In this notebook, you'll build your own neural network. For the most part, you could just copy and paste the code from Part 3, but you wouldn't be learning. It's important for you to write the code yourself and get it to work. Feel free to consult the previous notebook though as you work through this.\n",
    "\n",
    "First off, let's load the dataset through torchvision."
   ]
  },
  {
   "cell_type": "code",
   "execution_count": 1,
   "metadata": {},
   "outputs": [],
   "source": [
    "import torch\n",
    "from torchvision import datasets, transforms\n",
    "import helper\n",
    "\n",
    "# Define a transform to normalize the data\n",
    "transform = transforms.Compose([transforms.ToTensor(),\n",
    "                                transforms.Normalize((0.5, ), (0.5, ))])\n",
    "# Download and load the training data\n",
    "trainset = datasets.FashionMNIST('F_MNIST_data/', download=True, train=True, transform=transform)\n",
    "trainloader = torch.utils.data.DataLoader(trainset, batch_size=64, shuffle=True)\n",
    "\n",
    "# Download and load the test data\n",
    "testset = datasets.FashionMNIST('F_MNIST_data/', download=True, train=False, transform=transform)\n",
    "testloader = torch.utils.data.DataLoader(testset, batch_size=64, shuffle=True)"
   ]
  },
  {
   "cell_type": "markdown",
   "metadata": {},
   "source": [
    "Here we can see one of the images."
   ]
  },
  {
   "cell_type": "code",
   "execution_count": 2,
   "metadata": {},
   "outputs": [
    {
     "output_type": "display_data",
     "data": {
      "text/plain": "<Figure size 432x288 with 1 Axes>",
      "image/svg+xml": "<?xml version=\"1.0\" encoding=\"utf-8\" standalone=\"no\"?>\n<!DOCTYPE svg PUBLIC \"-//W3C//DTD SVG 1.1//EN\"\n  \"http://www.w3.org/Graphics/SVG/1.1/DTD/svg11.dtd\">\n<!-- Created with matplotlib (https://matplotlib.org/) -->\n<svg height=\"231.84pt\" version=\"1.1\" viewBox=\"0 0 231.84 231.84\" width=\"231.84pt\" xmlns=\"http://www.w3.org/2000/svg\" xmlns:xlink=\"http://www.w3.org/1999/xlink\">\n <defs>\n  <style type=\"text/css\">\n*{stroke-linecap:butt;stroke-linejoin:round;}\n  </style>\n </defs>\n <g id=\"figure_1\">\n  <g id=\"patch_1\">\n   <path d=\"M 0 231.84 \nL 231.84 231.84 \nL 231.84 0 \nL 0 0 \nz\n\" style=\"fill:none;\"/>\n  </g>\n  <g id=\"axes_1\">\n   <g id=\"patch_2\">\n    <path d=\"M 7.2 224.64 \nL 224.64 224.64 \nL 224.64 7.2 \nL 7.2 7.2 \nz\n\" style=\"fill:#ffffff;\"/>\n   </g>\n   <g clip-path=\"url(#p478ee0c390)\">\n    <image height=\"218\" id=\"image6081b3fb28\" transform=\"scale(1 -1)translate(0 -218)\" width=\"218\" x=\"7.2\" xlink:href=\"data:image/png;base64,\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\" y=\"-6.64\"/>\n   </g>\n   <g id=\"matplotlib.axis_1\">\n    <g id=\"xtick_1\">\n     <g id=\"line2d_1\"/>\n    </g>\n    <g id=\"xtick_2\">\n     <g id=\"line2d_2\"/>\n    </g>\n    <g id=\"xtick_3\">\n     <g id=\"line2d_3\"/>\n    </g>\n    <g id=\"xtick_4\">\n     <g id=\"line2d_4\"/>\n    </g>\n    <g id=\"xtick_5\">\n     <g id=\"line2d_5\"/>\n    </g>\n    <g id=\"xtick_6\">\n     <g id=\"line2d_6\"/>\n    </g>\n   </g>\n   <g id=\"matplotlib.axis_2\">\n    <g id=\"ytick_1\">\n     <g id=\"line2d_7\"/>\n    </g>\n    <g id=\"ytick_2\">\n     <g id=\"line2d_8\"/>\n    </g>\n    <g id=\"ytick_3\">\n     <g id=\"line2d_9\"/>\n    </g>\n    <g id=\"ytick_4\">\n     <g id=\"line2d_10\"/>\n    </g>\n    <g id=\"ytick_5\">\n     <g id=\"line2d_11\"/>\n    </g>\n    <g id=\"ytick_6\">\n     <g id=\"line2d_12\"/>\n    </g>\n   </g>\n  </g>\n </g>\n <defs>\n  <clipPath id=\"p478ee0c390\">\n   <rect height=\"217.44\" width=\"217.44\" x=\"7.2\" y=\"7.2\"/>\n  </clipPath>\n </defs>\n</svg>\n",
      "image/png": "[encoded data removed]"
     },
     "metadata": {
      "needs_background": "light"
     }
    }
   ],
   "source": [
    "image, label = next(iter(trainloader))\n",
    "helper.imshow(image[0,:]);"
   ]
  },
  {
   "cell_type": "markdown",
   "metadata": {},
   "source": [
    "With the data loaded, it's time to import the necessary packages."
   ]
  },
  {
   "cell_type": "code",
   "execution_count": 3,
   "metadata": {},
   "outputs": [],
   "source": [
    "%matplotlib inline\n",
    "%config InlineBackend.figure_format = 'retina'\n",
    "\n",
    "import matplotlib.pyplot as plt\n",
    "import numpy as np\n",
    "import time\n",
    "\n",
    "import torch\n",
    "from torch import nn\n",
    "from torch import optim\n",
    "import torch.nn.functional as F\n",
    "from torchvision import datasets, transforms\n",
    "\n",
    "import helper"
   ]
  },
  {
   "cell_type": "markdown",
   "metadata": {},
   "source": [
    "## Building the network\n",
    "\n",
    "Here you should define your network. As with MNIST, each image is 28x28 which is a total of 784 pixels, and there are 10 classes. You should include at least one hidden layer. We suggest you use ReLU activations for the layers and to return the logits from the forward pass. It's up to you how many layers you add and the size of those layers."
   ]
  },
  {
   "cell_type": "code",
   "execution_count": 4,
   "metadata": {},
   "outputs": [
    {
     "output_type": "execute_result",
     "data": {
      "text/plain": "Model(\n  (cn1): Conv2d(1, 10, kernel_size=(5, 5), stride=(1, 1))\n  (cn2): Conv2d(10, 20, kernel_size=(3, 3), stride=(1, 1))\n  (cn3): Conv2d(20, 30, kernel_size=(3, 3), stride=(1, 1))\n  (fc1): Linear(in_features=12000, out_features=256, bias=True)\n  (fc2): Linear(in_features=256, out_features=10, bias=True)\n)"
     },
     "metadata": {},
     "execution_count": 4
    }
   ],
   "source": [
    "# TODO: Define your network architecture here\n",
    "class Model(nn.Module):\n",
    "    def __init__(self):\n",
    "        super(Model, self).__init__()\n",
    "        self.cn1 = nn.Conv2d(1, 10, 5)\n",
    "        self.cn2 = nn.Conv2d(10, 20, 3)\n",
    "        self.cn3 = nn.Conv2d(20, 30, 3)\n",
    "        self.fc1 = nn.Linear(12000, 256)\n",
    "        self.fc2 = nn.Linear(256, 10)\n",
    "\n",
    "    def forward(self, x):\n",
    "        x = self.cn1(x)\n",
    "        x = F.relu(x)\n",
    "        x = self.cn2(x)\n",
    "        x = F.relu(x)\n",
    "        x = self.cn3(x)\n",
    "        x = F.relu(x)\n",
    "        x = x.view(x.size(0), -1)\n",
    "        x = self.fc1(x)\n",
    "        x = F.relu(x)\n",
    "        x = self.fc2(x)\n",
    "        return x\n",
    "model = Model()\n",
    "model"
   ]
  },
  {
   "cell_type": "markdown",
   "metadata": {},
   "source": [
    "# Train the network\n",
    "\n",
    "Now you should create your network and train it. First you'll want to define [the criterion](http://pytorch.org/docs/master/nn.html#loss-functions) ( something like `nn.CrossEntropyLoss`) and [the optimizer](http://pytorch.org/docs/master/optim.html) (typically `optim.SGD` or `optim.Adam`).\n",
    "\n",
    "Then write the training code. Remember the training pass is a fairly straightforward process:\n",
    "\n",
    "* Make a forward pass through the network to get the logits \n",
    "* Use the logits to calculate the loss\n",
    "* Perform a backward pass through the network with `loss.backward()` to calculate the gradients\n",
    "* Take a step with the optimizer to update the weights\n",
    "\n",
    "By adjusting the hyperparameters (hidden units, learning rate, etc), you should be able to get the training loss below 0.4."
   ]
  },
  {
   "cell_type": "code",
   "execution_count": 5,
   "metadata": {},
   "outputs": [],
   "source": [
    "# TODO: Create the network, define the criterion and optimizer\n",
    "criterion = nn.CrossEntropyLoss()\n",
    "optimizer = optim.SGD(model.parameters(), lr=0.001, momentum=0.99)"
   ]
  },
  {
   "cell_type": "code",
   "execution_count": 7,
   "metadata": {},
   "outputs": [
    {
     "output_type": "stream",
     "name": "stdout",
     "text": "Epoch: 1/1 1066.67% Loss: 0.4078\nEpoch: 1/1 2133.33% Loss: 0.3940\nEpoch: 1/1 3200.00% Loss: 0.3799\nEpoch: 1/1 4266.67% Loss: 0.3792\nEpoch: 1/1 5333.33% Loss: 0.3655\nEpoch: 1/1 6400.00% Loss: 0.3681\nEpoch: 1/1 7466.67% Loss: 0.3532\nEpoch: 1/1 8533.33% Loss: 0.3309\nEpoch: 1/1 9600.00% Loss: 0.3191\n"
    }
   ],
   "source": [
    "# TODO: Train the network here\n",
    "epochs = \n",
    "print_every = 100\n",
    "nb_batches = len(trainset.data) / 64\n",
    "\n",
    "for epoch in range(epochs):\n",
    "    step = 0\n",
    "    running_loss = 0\n",
    "\n",
    "    for images, labels in iter(trainloader):\n",
    "        step += 1\n",
    "\n",
    "        optimizer.zero_grad()\n",
    "\n",
    "        logits = model.forward(images)\n",
    "        loss = criterion(logits, labels)\n",
    "        loss.backward()\n",
    "        optimizer.step()\n",
    "\n",
    "        running_loss += loss.item()\n",
    "\n",
    "        if step % print_every == 0:\n",
    "            print(\"Epoch: {}/{} {:.2%} Loss: {:.4f}\".format(epoch + 1, epochs, step * 100.0 / nb_batches, running_loss / print_every))\n",
    "            running_loss = 0"
   ]
  },
  {
   "cell_type": "code",
   "execution_count": 15,
   "metadata": {},
   "outputs": [
    {
     "output_type": "display_data",
     "data": {
      "text/plain": "<Figure size 432x648 with 2 Axes>",
      "image/png": "[encoded data removed]"
     },
     "metadata": {
      "image/png": {
       "width": 424,
       "height": 216
      },
      "needs_background": "light"
     }
    }
   ],
   "source": [
    "# Test out your network!\n",
    "\n",
    "dataiter = iter(testloader)\n",
    "images, labels = dataiter.next()\n",
    "img = images[0]\n",
    "# Convert 2D image to 1D vector\n",
    "img = img.resize_(1, 1, 28, 28)\n",
    "\n",
    "# TODO: Calculate the class probabilities (softmax) for img\n",
    "ps = F.softmax(model.forward(img))\n",
    "\n",
    "# Plot the image and probabilities\n",
    "helper.view_classify(img, ps, version='Fashion')"
   ]
  },
  {
   "cell_type": "markdown",
   "metadata": {},
   "source": [
    "Now that your network is trained, you'll want to save it to disk so you can load it later instead of training it again. Obviously, it's impractical to train a network every time you need one. In practice, you'll train it once, save the model, then reload it for further training or making predictions. In the next part, I'll show you how to save and load trained models."
   ]
  }
 ],
 "metadata": {
  "kernelspec": {
   "display_name": "Python 3.7.6 64-bit ('pytorch': conda)",
   "language": "python",
   "name": "python37664bitpytorchcondade284bf73b544b32be46e92511249942"
  },
  "language_info": {
   "codemirror_mode": {
    "name": "ipython",
    "version": 3
   },
   "file_extension": ".py",
   "mimetype": "text/x-python",
   "name": "python",
   "nbconvert_exporter": "python",
   "pygments_lexer": "ipython3",
   "version": "3.7.6-final"
  }
 },
 "nbformat": 4,
 "nbformat_minor": 2
}